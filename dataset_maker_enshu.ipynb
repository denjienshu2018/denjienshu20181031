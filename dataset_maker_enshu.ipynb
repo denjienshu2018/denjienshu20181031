{
 "cells": [
  {
   "cell_type": "code",
   "execution_count": 1,
   "metadata": {
    "collapsed": true
   },
   "outputs": [],
   "source": [
    "# 必要なライブラリのインポート\n",
    "import math\n",
    "import numpy as np\n",
    "import random\n",
    "import pickle"
   ]
  },
  {
   "cell_type": "code",
   "execution_count": 2,
   "metadata": {
    "collapsed": true
   },
   "outputs": [],
   "source": [
    "\"\"\"\n",
    "課題1:初期値を設定する。\n",
    "\"\"\"\n",
    "############## 課題1 ################\n",
    "num_of_charges =  # 電荷の個数\n",
    "length_of_side =  # 立方体の一片の長さ(m)\n",
    "max_coulomb =  # 電荷の最大値\n",
    "pi =  # 円周率\n",
    "epsilon =  # 真空誘電率\n",
    "####################################"
   ]
  },
  {
   "cell_type": "code",
   "execution_count": 3,
   "metadata": {
    "collapsed": true
   },
   "outputs": [],
   "source": [
    "# x, y, z座標のリストを作成\n",
    "x_coordinates = []\n",
    "for x in range(11):\n",
    "    x_coordinates.append(x * length_of_side / 10)\n",
    "y_coordinates = []\n",
    "for y in range(11):\n",
    "    y_coordinates.append(y * length_of_side / 10)\n",
    "z_coordinates = []\n",
    "for z in range(11):\n",
    "    z_coordinates.append(z * length_of_side / 10)"
   ]
  },
  {
   "cell_type": "code",
   "execution_count": 4,
   "metadata": {
    "collapsed": true,
    "scrolled": true
   },
   "outputs": [],
   "source": [
    "# 電荷を配置し、電場を作成する関数を定義\n",
    "def make_charge_field():\n",
    "    \"\"\"\n",
    "    課題2:電荷となる変数chargesを定義し、(4, num_of_charges)のゼロ行列とする。\n",
    "    0行目:0~max_coulombの範囲でランダムに電荷を挿入\n",
    "    1行目:x_coordinatesの中で両端を除いた座標を挿入\n",
    "    2行目:y_coordinatesの中で両端を除いた座標を挿入\n",
    "    3行目:z_coordinatesの中で両端を除いた座標を挿入\n",
    "    \"\"\"\n",
    "    ############## 課題2 ################\n",
    "\n",
    "    ####################################\n",
    "    \n",
    "    \"\"\"\n",
    "    課題3:電場となる変数fieldsを定義し、(11, 11, 3, 6)のゼロ行列とする。\n",
    "    11, 11:立方体の１面の座標\n",
    "    3:電場ベクトルxyz成分\n",
    "    6:立方体6面\n",
    "    をそれぞれ表している。\n",
    "    \"\"\"\n",
    "    ############## 課題3 ################\n",
    "\n",
    "    ####################################\n",
    "    \n",
    "    # x座標を0に固定し、立方体１面の電場をfieldsに挿入する。\n",
    "    x = x_coordinates[0]\n",
    "    for y_index in range(len(y_coordinates)):\n",
    "        for z_index in range(len(z_coordinates)):\n",
    "            for num in range(num_of_charges):\n",
    "                charge = charges[:, num]\n",
    "                y = y_coordinates[y_index]\n",
    "                z = z_coordinates[z_index]\n",
    "                r = np.array([x - charge[1], y - charge[2], z - charge[3]])\n",
    "                fields[y_index, z_index, 0, 0] += (charge[0] * r[0]) / (4 * pi * epsilon * pow(np.linalg.norm(r), 3))\n",
    "                fields[y_index, z_index, 1, 0] += (charge[0] * r[1]) / (4 * pi * epsilon * pow(np.linalg.norm(r), 3))\n",
    "                fields[y_index, z_index, 2, 0] += (charge[0] * r[2]) / (4 * pi * epsilon * pow(np.linalg.norm(r), 3))\n",
    "    \"\"\"\n",
    "    課題4:上記スクリプトを参考にx座標を0.1固定、y座標を0, 0.1固定、z座標を0, 0.1固定して残り5面の電場をfieldsに挿入する。\n",
    "    自分で書きたい場合は上記を消して実装してください。\n",
    "    \"\"\"\n",
    "    ############## 課題4 ################\n",
    "\n",
    "    ####################################\n",
    "    return charges, fields"
   ]
  },
  {
   "cell_type": "code",
   "execution_count": 5,
   "metadata": {
    "collapsed": true
   },
   "outputs": [],
   "source": [
    "# デバッグ用に関数を呼び出す\n",
    "_, _ = make_charge_field()"
   ]
  },
  {
   "cell_type": "code",
   "execution_count": 7,
   "metadata": {
    "collapsed": true
   },
   "outputs": [],
   "source": [
    "\"\"\"\n",
    "課題5:ゼロ行列dataset_charges, dataset_fieldsを定義する。\n",
    "それぞれ、(10000, 4, num_of_charges), (10000, 11, 11, 3, 6)のゼロ行列とする。\n",
    "make_charge_field関数を10000回ループし、chargesとfieldsをそれぞれdataset_charges, dataset_fieldsに挿入していく。\n",
    "dataset_charges, dataset_fieldsをtuple型としてdatasetという変数に挿入する。\n",
    "dataset変数をpickleファイルとしてローカルストレージに保存する。ファイル名は任意。\n",
    "\"\"\"\n",
    "############## 課題5 ################\n",
    "\n",
    "####################################"
   ]
  },
  {
   "cell_type": "code",
   "execution_count": null,
   "metadata": {
    "collapsed": true
   },
   "outputs": [],
   "source": []
  }
 ],
 "metadata": {
  "kernelspec": {
   "display_name": "Python 3",
   "language": "python",
   "name": "python3"
  },
  "language_info": {
   "codemirror_mode": {
    "name": "ipython",
    "version": 3
   },
   "file_extension": ".py",
   "mimetype": "text/x-python",
   "name": "python",
   "nbconvert_exporter": "python",
   "pygments_lexer": "ipython3",
   "version": "3.6.3"
  }
 },
 "nbformat": 4,
 "nbformat_minor": 2
}
